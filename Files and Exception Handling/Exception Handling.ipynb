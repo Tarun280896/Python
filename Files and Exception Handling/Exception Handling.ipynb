{
 "cells": [
  {
   "cell_type": "code",
   "execution_count": 1,
   "metadata": {},
   "outputs": [
    {
     "data": {
      "text/plain": [
       "[\"M a n : You didn't!\\n\",\n",
       " \"Other Man: I'm telling you, I did!\\n\",\n",
       " 'Man: You did not!\\n',\n",
       " \"Other Man: Oh I'm sorry, is this a five minute argument, or the full half hour?\\n\",\n",
       " 'Man: Ah! (taking out his wallet and paying) Just the five minutes.\\n',\n",
       " 'Other Man: Just the five minutes. Thank you.\\n',\n",
       " 'Other Man: Anyway, I did.\\n',\n",
       " 'Man: You most certainly did not!\\n',\n",
       " \"Other Man: Now let's get one thing quite clear: I most definitely told you!\\n\",\n",
       " \"Man: Oh no you didn't!\\n\",\n",
       " 'Other Man: Oh yes I did!\\n',\n",
       " \"Other Man: Now let's get one thing quite clear: I most definitely told you!\\n\",\n",
       " \"Man: Oh no you didn't!\\n\",\n",
       " 'Other Man: Oh yes I did!\\n',\n",
       " \"Man: Oh no you didn't!\\n\",\n",
       " 'Other Man: Oh yes I did!\\n',\n",
       " \"Man: Oh look, this isn't an argument!\\n\",\n",
       " '(pause)\\n',\n",
       " 'Other Man: Yes it is!\\n',\n",
       " 'Man: No it isnâ€™t!\\n',\n",
       " '(pause)\\n',\n",
       " \"Man: It's just contradiction!\\n\",\n",
       " \"Other Man: No it isn't!\"]"
      ]
     },
     "execution_count": 1,
     "metadata": {},
     "output_type": "execute_result"
    }
   ],
   "source": [
    "data = open('text2.txt')\n",
    "data.readlines()"
   ]
  },
  {
   "cell_type": "markdown",
   "metadata": {},
   "source": [
    "* what if the file is not exists or get deleted from the directory "
   ]
  },
  {
   "cell_type": "code",
   "execution_count": 3,
   "metadata": {},
   "outputs": [],
   "source": [
    "import os "
   ]
  },
  {
   "cell_type": "code",
   "execution_count": 5,
   "metadata": {},
   "outputs": [
    {
     "name": "stdout",
     "output_type": "stream",
     "text": [
      "M a n  said: You didn't!\n",
      " Other Man said: I'm telling you, I did!\n",
      " Man said: You did not!\n",
      " Other Man said: Oh I'm sorry, is this a five minute argument, or the full half hour?\n",
      " Man said: Ah! (taking out his wallet and paying) Just the five minutes.\n",
      " Other Man said: Just the five minutes. Thank you.\n",
      " Other Man said: Anyway, I did.\n",
      " Man said: You most certainly did not!\n",
      " Other Man said: Now let's get one thing quite clear: I most definitely told you!\n",
      " Man said: Oh no you didn't!\n",
      " Other Man said: Oh yes I did!\n",
      " Other Man said: Now let's get one thing quite clear: I most definitely told you!\n",
      " Man said: Oh no you didn't!\n",
      " Other Man said: Oh yes I did!\n",
      " Man said: Oh no you didn't!\n",
      " Other Man said: Oh yes I did!\n",
      " Man said: Oh look, this isn't an argument!\n",
      " Other Man said: Yes it is!\n",
      " Man said: No it isnâ€™t!\n",
      " Man said: It's just contradiction!\n",
      " Other Man said: No it isn't! "
     ]
    }
   ],
   "source": [
    "if os.path.exists('text2.txt'):# checking for the file in the directory path \n",
    "    data = open('text2.txt')\n",
    "    for eachline in data :\n",
    "        try :\n",
    "            (role,script) = eachline.split(\":\",1)\n",
    "            print(role,end= ' ')\n",
    "            print('said',end = ':')\n",
    "            print(script,end= ' ')\n",
    "        except :\n",
    "            pass\n",
    "else:\n",
    "    print('File is missing')# if the file is not present in the directory then it print file is missing \n",
    "        "
   ]
  },
  {
   "cell_type": "markdown",
   "metadata": {},
   "source": [
    "* or we can also use try and except block insted"
   ]
  },
  {
   "cell_type": "code",
   "execution_count": 6,
   "metadata": {},
   "outputs": [
    {
     "name": "stdout",
     "output_type": "stream",
     "text": [
      "M a n  said: You didn't!\n",
      " Other Man said: I'm telling you, I did!\n",
      " Man said: You did not!\n",
      " Other Man said: Oh I'm sorry, is this a five minute argument, or the full half hour?\n",
      " Man said: Ah! (taking out his wallet and paying) Just the five minutes.\n",
      " Other Man said: Just the five minutes. Thank you.\n",
      " Other Man said: Anyway, I did.\n",
      " Man said: You most certainly did not!\n",
      " Other Man said: Now let's get one thing quite clear: I most definitely told you!\n",
      " Man said: Oh no you didn't!\n",
      " Other Man said: Oh yes I did!\n",
      " Other Man said: Now let's get one thing quite clear: I most definitely told you!\n",
      " Man said: Oh no you didn't!\n",
      " Other Man said: Oh yes I did!\n",
      " Man said: Oh no you didn't!\n",
      " Other Man said: Oh yes I did!\n",
      " Man said: Oh look, this isn't an argument!\n",
      " Other Man said: Yes it is!\n",
      " Man said: No it isnâ€™t!\n",
      " Man said: It's just contradiction!\n",
      " Other Man said: No it isn't! "
     ]
    }
   ],
   "source": [
    "try:\n",
    "    data = open('text2.txt')\n",
    "    for eachline in data :\n",
    "        try :\n",
    "            (role,script) = eachline.split(\":\",1)\n",
    "            print(role,end= ' ')\n",
    "            print('said',end = ':')\n",
    "            print(script,end= ' ')\n",
    "        except :\n",
    "            pass\n",
    "except:\n",
    "    print('File is missing')# if the file is not present in the directory then it print file is missing \n",
    "        "
   ]
  },
  {
   "cell_type": "markdown",
   "metadata": {},
   "source": [
    "* we can be more specific with the exceptions"
   ]
  },
  {
   "cell_type": "code",
   "execution_count": 7,
   "metadata": {},
   "outputs": [
    {
     "name": "stdout",
     "output_type": "stream",
     "text": [
      "M a n  said: You didn't!\n",
      " Other Man said: I'm telling you, I did!\n",
      " Man said: You did not!\n",
      " Other Man said: Oh I'm sorry, is this a five minute argument, or the full half hour?\n",
      " Man said: Ah! (taking out his wallet and paying) Just the five minutes.\n",
      " Other Man said: Just the five minutes. Thank you.\n",
      " Other Man said: Anyway, I did.\n",
      " Man said: You most certainly did not!\n",
      " Other Man said: Now let's get one thing quite clear: I most definitely told you!\n",
      " Man said: Oh no you didn't!\n",
      " Other Man said: Oh yes I did!\n",
      " Other Man said: Now let's get one thing quite clear: I most definitely told you!\n",
      " Man said: Oh no you didn't!\n",
      " Other Man said: Oh yes I did!\n",
      " Man said: Oh no you didn't!\n",
      " Other Man said: Oh yes I did!\n",
      " Man said: Oh look, this isn't an argument!\n",
      " Other Man said: Yes it is!\n",
      " Man said: No it isnâ€™t!\n",
      " Man said: It's just contradiction!\n",
      " Other Man said: No it isn't! "
     ]
    }
   ],
   "source": [
    "try:\n",
    "    data = open('text2.txt')\n",
    "    for eachline in data :\n",
    "        try :\n",
    "            (role,script) = eachline.split(\":\",1)\n",
    "            print(role,end= ' ')\n",
    "            print('said',end = ':')\n",
    "            print(script,end= ' ')\n",
    "        except ValueError: # excepting the code when it ran into ValueError\n",
    "            pass\n",
    "except IOError:# excepting the code when it has encountered an IOError (file open and close  comes under I/O operations)\n",
    "    print('File is missing')\n",
    "        "
   ]
  },
  {
   "cell_type": "code",
   "execution_count": null,
   "metadata": {},
   "outputs": [],
   "source": []
  }
 ],
 "metadata": {
  "kernelspec": {
   "display_name": "Python 3",
   "language": "python",
   "name": "python3"
  },
  "language_info": {
   "codemirror_mode": {
    "name": "ipython",
    "version": 3
   },
   "file_extension": ".py",
   "mimetype": "text/x-python",
   "name": "python",
   "nbconvert_exporter": "python",
   "pygments_lexer": "ipython3",
   "version": "3.7.3"
  }
 },
 "nbformat": 4,
 "nbformat_minor": 2
}
