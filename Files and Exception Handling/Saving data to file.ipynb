{
 "cells": [
  {
   "cell_type": "markdown",
   "metadata": {},
   "source": [
    "code to satisfy the following requirements:\n",
    "1. Create an empty list called man.\n",
    "2. Create an empty list called other.\n",
    "3. Add a line of code to remove unwanted whitespace from the line_spoken variable.\n",
    "4. Provide the conditions and code to add line_spoken to the correct list based on the value of role.\n",
    "5. Print each of the lists (man and other) to the screen."
   ]
  },
  {
   "cell_type": "code",
   "execution_count": 2,
   "metadata": {},
   "outputs": [
    {
     "data": {
      "text/plain": [
       "[\"Man : You didn't!\\n\",\n",
       " \"Other Man: I'm telling you, I did!\\n\",\n",
       " 'Man: You did not!\\n',\n",
       " \"Other Man: Oh I'm sorry, is this a five minute argument, or the full half hour?\\n\",\n",
       " 'Man: Ah! (taking out his wallet and paying) Just the five minutes.\\n',\n",
       " 'Other Man: Just the five minutes. Thank you.\\n',\n",
       " 'Other Man: Anyway, I did.\\n',\n",
       " 'Man: You most certainly did not!\\n',\n",
       " \"Other Man: Now let's get one thing quite clear: I most definitely told you!\\n\",\n",
       " \"Man: Oh no you didn't!\\n\",\n",
       " 'Other Man: Oh yes I did!\\n',\n",
       " \"Other Man: Now let's get one thing quite clear: I most definitely told you!\\n\",\n",
       " \"Man: Oh no you didn't!\\n\",\n",
       " 'Other Man: Oh yes I did!\\n',\n",
       " \"Man: Oh no you didn't!\\n\",\n",
       " 'Other Man: Oh yes I did!\\n',\n",
       " \"Man: Oh look, this isn't an argument!\\n\",\n",
       " '(pause)\\n',\n",
       " 'Other Man: Yes it is!\\n',\n",
       " 'Man: No it isnâ€™t!\\n',\n",
       " '(pause)\\n',\n",
       " \"Man: It's just contradiction!\\n\",\n",
       " \"Other Man: No it isn't!\"]"
      ]
     },
     "execution_count": 2,
     "metadata": {},
     "output_type": "execute_result"
    }
   ],
   "source": [
    "data = open('text2.txt')\n",
    "data.readlines()"
   ]
  },
  {
   "cell_type": "code",
   "execution_count": 20,
   "metadata": {},
   "outputs": [
    {
     "name": "stdout",
     "output_type": "stream",
     "text": [
      "man : [' You did not!\\n', ' Ah! (taking out his wallet and paying) Just the five minutes.\\n', ' You most certainly did not!\\n', \" Oh no you didn't!\\n\", \" Oh no you didn't!\\n\", \" Oh no you didn't!\\n\", \" Oh look, this isn't an argument!\\n\", ' No it isnâ€™t!\\n', \" It's just contradiction!\\n\"]\n",
      "\n",
      "other : [\" I'm telling you, I did!\\n\", \" Oh I'm sorry, is this a five minute argument, or the full half hour?\\n\", ' Just the five minutes. Thank you.\\n', ' Anyway, I did.\\n', \" Now let's get one thing quite clear: I most definitely told you!\\n\", ' Oh yes I did!\\n', \" Now let's get one thing quite clear: I most definitely told you!\\n\", ' Oh yes I did!\\n', ' Oh yes I did!\\n', ' Yes it is!\\n', \" No it isn't!\"] "
     ]
    }
   ],
   "source": [
    "man = []\n",
    "other = []\n",
    "try :\n",
    "    data = open('text2.txt')\n",
    "    for eachline in data :\n",
    "        try :\n",
    "            (role,line_spoken) = eachline.split(\":\",1)\n",
    "            if role == 'Man':\n",
    "                man.append(line_spoken)\n",
    "            elif role =='Other Man':\n",
    "                other.append(line_spoken)\n",
    "            else :\n",
    "                pass\n",
    "        except ValueError:\n",
    "            pass\n",
    "    data.close()#closing the file after its use \n",
    "except IOError:\n",
    "    print('File is Missing')\n",
    "print('man :',man, end = '\\n\\n')\n",
    "print('other :',other,end= ' ')"
   ]
  },
  {
   "cell_type": "markdown",
   "metadata": {},
   "source": [
    "# Saving the list data into files "
   ]
  },
  {
   "cell_type": "code",
   "execution_count": 4,
   "metadata": {},
   "outputs": [],
   "source": [
    "try:\n",
    "    out_man = open('man.txt',\"w\") # opening the file in write mode \n",
    "    out_other = open('other_man.txt',\"w\")\n",
    "    \n",
    "    print(man,file= out_man)\n",
    "    print(other,file=out_other)\n",
    "    \n",
    "    out_man.close()\n",
    "    out_other.close() \n",
    "   #if you need to handle an IOError before a file is closed, your written data might become corrupted\n",
    "   # and there’s no way of telling until after it has happened.\n",
    "    #so we need to close the files after except block using finally BIF function\n",
    "\n",
    "except IOError:\n",
    "    \n",
    "    print(\"File is Missing\")"
   ]
  },
  {
   "cell_type": "code",
   "execution_count": 5,
   "metadata": {},
   "outputs": [
    {
     "data": {
      "text/plain": [
       "['[\\' You did not!\\\\n\\', \\' Ah! (taking out his wallet and paying) Just the five minutes.\\\\n\\', \\' You most certainly did not!\\\\n\\', \" Oh no you didn\\'t!\\\\n\", \" Oh no you didn\\'t!\\\\n\", \" Oh no you didn\\'t!\\\\n\", \" Oh look, this isn\\'t an argument!\\\\n\", \\' No it isnâ€™t!\\\\n\\', \" It\\'s just contradiction!\\\\n\"]\\n']"
      ]
     },
     "execution_count": 5,
     "metadata": {},
     "output_type": "execute_result"
    }
   ],
   "source": [
    "out1 = open('man.txt')\n",
    "out1.readlines()"
   ]
  },
  {
   "cell_type": "code",
   "execution_count": 6,
   "metadata": {},
   "outputs": [
    {
     "data": {
      "text/plain": [
       "['[\" I\\'m telling you, I did!\\\\n\", \" Oh I\\'m sorry, is this a five minute argument, or the full half hour?\\\\n\", \\' Just the five minutes. Thank you.\\\\n\\', \\' Anyway, I did.\\\\n\\', \" Now let\\'s get one thing quite clear: I most definitely told you!\\\\n\", \\' Oh yes I did!\\\\n\\', \" Now let\\'s get one thing quite clear: I most definitely told you!\\\\n\", \\' Oh yes I did!\\\\n\\', \\' Oh yes I did!\\\\n\\', \\' Yes it is!\\\\n\\', \" No it isn\\'t!\"]\\n']"
      ]
     },
     "execution_count": 6,
     "metadata": {},
     "output_type": "execute_result"
    }
   ],
   "source": [
    "out2 = open('other_man.txt')\n",
    "out2.readlines()"
   ]
  },
  {
   "cell_type": "markdown",
   "metadata": {},
   "source": [
    "# Using finally BIF(built in function)"
   ]
  },
  {
   "cell_type": "code",
   "execution_count": 7,
   "metadata": {},
   "outputs": [],
   "source": [
    "try:\n",
    "    out_man = open('man.txt',\"w\") \n",
    "    out_other = open('other_man.txt',\"w\")\n",
    "    \n",
    "    print(man,file= out_man)\n",
    "    print(other,file=out_other)\n",
    "    \n",
    "except IOError as err:\n",
    "    print(\"File is Missing\"+str(err))\n",
    "    \n",
    "finally:\n",
    "    out_man.close()\n",
    "    out_other.close()"
   ]
  },
  {
   "cell_type": "code",
   "execution_count": 6,
   "metadata": {},
   "outputs": [
    {
     "name": "stdout",
     "output_type": "stream",
     "text": [
      "File is missing[Errno 2] No such file or directory: 'text4.txt'\n"
     ]
    },
    {
     "ename": "NameError",
     "evalue": "name 'data' is not defined",
     "output_type": "error",
     "traceback": [
      "\u001b[1;31m---------------------------------------------------------------------------\u001b[0m",
      "\u001b[1;31mNameError\u001b[0m                                 Traceback (most recent call last)",
      "\u001b[1;32m<ipython-input-6-408bd54ecba1>\u001b[0m in \u001b[0;36m<module>\u001b[1;34m\u001b[0m\n\u001b[0;32m      9\u001b[0m \u001b[1;33m\u001b[0m\u001b[0m\n\u001b[0;32m     10\u001b[0m \u001b[1;32mfinally\u001b[0m \u001b[1;33m:\u001b[0m\u001b[1;33m\u001b[0m\u001b[1;33m\u001b[0m\u001b[0m\n\u001b[1;32m---> 11\u001b[1;33m     \u001b[0mdata\u001b[0m\u001b[1;33m.\u001b[0m\u001b[0mclose\u001b[0m\u001b[1;33m(\u001b[0m\u001b[1;33m)\u001b[0m\u001b[1;33m\u001b[0m\u001b[1;33m\u001b[0m\u001b[0m\n\u001b[0m",
      "\u001b[1;31mNameError\u001b[0m: name 'data' is not defined"
     ]
    }
   ],
   "source": [
    "try :\n",
    "    data = open('text4.txt')\n",
    "    for eachline in data:\n",
    "        (role,linespoken) = eachline.split(\":\")\n",
    "        print(role,\" \",\"said: \",linespoken)\n",
    "\n",
    "except IOError as err:#if the file is not present \n",
    "    print('File is missing'+str(err))\n",
    "\n",
    "finally :\n",
    "    data.close()# as the file does not exists data file object is not created and which subsequently cant make call \n",
    "    #to close() function"
   ]
  },
  {
   "cell_type": "code",
   "execution_count": 8,
   "metadata": {},
   "outputs": [
    {
     "name": "stdout",
     "output_type": "stream",
     "text": [
      "File Error:[Errno 2] No such file or directory: 'text4.txt'\n"
     ]
    }
   ],
   "source": [
    "try :\n",
    "    data = open('text4.txt')\n",
    "    for eachline in data:\n",
    "        (role,linespoken) = eachline.split(\":\")\n",
    "        print(role,\" \",\"said: \",linespoken)\n",
    "\n",
    "except IOError as err:#err give the exact specific error message \n",
    "    print('File Error:'+str(err))\n",
    "\n",
    "finally :\n",
    "    if 'data' in locals():#local BIF return a collection of names defined in the current scope (with in the program)\n",
    "        data.close()"
   ]
  },
  {
   "cell_type": "code",
   "execution_count": 10,
   "metadata": {},
   "outputs": [
    {
     "data": {
      "text/plain": [
       "{'__name__': '__main__',\n",
       " '__doc__': 'Automatically created module for IPython interactive environment',\n",
       " '__package__': None,\n",
       " '__loader__': None,\n",
       " '__spec__': None,\n",
       " '__builtin__': <module 'builtins' (built-in)>,\n",
       " '__builtins__': <module 'builtins' (built-in)>,\n",
       " '_ih': ['',\n",
       "  'try :\\n    data = open(\\'text4.txt\\')\\n    for eachline in data:\\n        (role,linespoken) = eachline.split(\":\")\\n        print(role,\" \",\"said: \",linespoken)\\n\\nexcept IOError as err:#if the file is missing\\n    print(\\'File is missing\\'+str(err))\\n\\nfinally :        ',\n",
       "  'try :\\n    data = open(\\'text4.txt\\')\\n    for eachline in data:\\n        (role,linespoken) = eachline.split(\":\")\\n        print(role,\" \",\"said: \",linespoken)\\n\\nexcept IOError as err:#if the file is missing\\n    print(\\'File is missing\\'+str(err))\\n\\nfinally :\\n    if data in locals():',\n",
       "  'try :\\n    data = open(\\'text4.txt\\')\\n    for eachline in data:\\n        (role,linespoken) = eachline.split(\":\")\\n        print(role,\" \",\"said: \",linespoken)\\n\\nexcept IOError as err:#if the file is missing\\n    print(\\'File is missing\\'+str(err))\\n\\nfinally :\\n    if data in locals():\\n        data.close()',\n",
       "  'try :\\n    data = open(\\'text4.txt\\')\\n    for eachline in data:\\n        (role,linespoken) = eachline.split(\":\")\\n        print(role,\" \",\"said: \",linespoken)\\n\\nexcept IOError as err:#if the file is missing\\n    print(\\'File is missing\\'+str(err))\\n\\nfinally :\\n    if \\'data\\' in locals():\\n        data.close()',\n",
       "  'locals()',\n",
       "  'try :\\n    data = open(\\'text4.txt\\')\\n    for eachline in data:\\n        (role,linespoken) = eachline.split(\":\")\\n        print(role,\" \",\"said: \",linespoken)\\n\\nexcept IOError as err:#if the file is missing\\n    print(\\'File is missing\\'+str(err))\\n\\nfinally :\\n    data.close()',\n",
       "  'try :\\n    data = open(\\'text4.txt\\')\\n    for eachline in data:\\n        (role,linespoken) = eachline.split(\":\")\\n        print(role,\" \",\"said: \",linespoken)\\n\\nexcept IOError as err:#if the file is missing\\n    print(\\'File is missing\\'+str(err))\\n\\nfinally :\\n    if \\'data\\' in locals():#local BIF return a collection of names defined in the current scope (with in the program)\\n        data.close()',\n",
       "  'try :\\n    data = open(\\'text4.txt\\')\\n    for eachline in data:\\n        (role,linespoken) = eachline.split(\":\")\\n        print(role,\" \",\"said: \",linespoken)\\n\\nexcept IOError as err:#err give the exact specific error message \\n    print(\\'File Error:\\'+str(err))\\n\\nfinally :\\n    if \\'data\\' in locals():#local BIF return a collection of names defined in the current scope (with in the program)\\n        data.close()',\n",
       "  'locals',\n",
       "  'locals()'],\n",
       " '_oh': {5: {...}, 9: <function locals()>},\n",
       " '_dh': ['D:\\\\DataScience\\\\Python\\\\Files and Exception Handling'],\n",
       " 'In': ['',\n",
       "  'try :\\n    data = open(\\'text4.txt\\')\\n    for eachline in data:\\n        (role,linespoken) = eachline.split(\":\")\\n        print(role,\" \",\"said: \",linespoken)\\n\\nexcept IOError as err:#if the file is missing\\n    print(\\'File is missing\\'+str(err))\\n\\nfinally :        ',\n",
       "  'try :\\n    data = open(\\'text4.txt\\')\\n    for eachline in data:\\n        (role,linespoken) = eachline.split(\":\")\\n        print(role,\" \",\"said: \",linespoken)\\n\\nexcept IOError as err:#if the file is missing\\n    print(\\'File is missing\\'+str(err))\\n\\nfinally :\\n    if data in locals():',\n",
       "  'try :\\n    data = open(\\'text4.txt\\')\\n    for eachline in data:\\n        (role,linespoken) = eachline.split(\":\")\\n        print(role,\" \",\"said: \",linespoken)\\n\\nexcept IOError as err:#if the file is missing\\n    print(\\'File is missing\\'+str(err))\\n\\nfinally :\\n    if data in locals():\\n        data.close()',\n",
       "  'try :\\n    data = open(\\'text4.txt\\')\\n    for eachline in data:\\n        (role,linespoken) = eachline.split(\":\")\\n        print(role,\" \",\"said: \",linespoken)\\n\\nexcept IOError as err:#if the file is missing\\n    print(\\'File is missing\\'+str(err))\\n\\nfinally :\\n    if \\'data\\' in locals():\\n        data.close()',\n",
       "  'locals()',\n",
       "  'try :\\n    data = open(\\'text4.txt\\')\\n    for eachline in data:\\n        (role,linespoken) = eachline.split(\":\")\\n        print(role,\" \",\"said: \",linespoken)\\n\\nexcept IOError as err:#if the file is missing\\n    print(\\'File is missing\\'+str(err))\\n\\nfinally :\\n    data.close()',\n",
       "  'try :\\n    data = open(\\'text4.txt\\')\\n    for eachline in data:\\n        (role,linespoken) = eachline.split(\":\")\\n        print(role,\" \",\"said: \",linespoken)\\n\\nexcept IOError as err:#if the file is missing\\n    print(\\'File is missing\\'+str(err))\\n\\nfinally :\\n    if \\'data\\' in locals():#local BIF return a collection of names defined in the current scope (with in the program)\\n        data.close()',\n",
       "  'try :\\n    data = open(\\'text4.txt\\')\\n    for eachline in data:\\n        (role,linespoken) = eachline.split(\":\")\\n        print(role,\" \",\"said: \",linespoken)\\n\\nexcept IOError as err:#err give the exact specific error message \\n    print(\\'File Error:\\'+str(err))\\n\\nfinally :\\n    if \\'data\\' in locals():#local BIF return a collection of names defined in the current scope (with in the program)\\n        data.close()',\n",
       "  'locals',\n",
       "  'locals()'],\n",
       " 'Out': {5: {...}, 9: <function locals()>},\n",
       " 'get_ipython': <bound method InteractiveShell.get_ipython of <ipykernel.zmqshell.ZMQInteractiveShell object at 0x000001655B35EF60>>,\n",
       " 'exit': <IPython.core.autocall.ZMQExitAutocall at 0x1655bbc3748>,\n",
       " 'quit': <IPython.core.autocall.ZMQExitAutocall at 0x1655bbc3748>,\n",
       " '_': <function locals()>,\n",
       " '__': {...},\n",
       " '___': '',\n",
       " '_i': 'locals',\n",
       " '_ii': 'try :\\n    data = open(\\'text4.txt\\')\\n    for eachline in data:\\n        (role,linespoken) = eachline.split(\":\")\\n        print(role,\" \",\"said: \",linespoken)\\n\\nexcept IOError as err:#err give the exact specific error message \\n    print(\\'File Error:\\'+str(err))\\n\\nfinally :\\n    if \\'data\\' in locals():#local BIF return a collection of names defined in the current scope (with in the program)\\n        data.close()',\n",
       " '_iii': 'try :\\n    data = open(\\'text4.txt\\')\\n    for eachline in data:\\n        (role,linespoken) = eachline.split(\":\")\\n        print(role,\" \",\"said: \",linespoken)\\n\\nexcept IOError as err:#if the file is missing\\n    print(\\'File is missing\\'+str(err))\\n\\nfinally :\\n    if \\'data\\' in locals():#local BIF return a collection of names defined in the current scope (with in the program)\\n        data.close()',\n",
       " '_i1': 'try :\\n    data = open(\\'text4.txt\\')\\n    for eachline in data:\\n        (role,linespoken) = eachline.split(\":\")\\n        print(role,\" \",\"said: \",linespoken)\\n\\nexcept IOError as err:#if the file is missing\\n    print(\\'File is missing\\'+str(err))\\n\\nfinally :        ',\n",
       " '_i2': 'try :\\n    data = open(\\'text4.txt\\')\\n    for eachline in data:\\n        (role,linespoken) = eachline.split(\":\")\\n        print(role,\" \",\"said: \",linespoken)\\n\\nexcept IOError as err:#if the file is missing\\n    print(\\'File is missing\\'+str(err))\\n\\nfinally :\\n    if data in locals():',\n",
       " '_i3': 'try :\\n    data = open(\\'text4.txt\\')\\n    for eachline in data:\\n        (role,linespoken) = eachline.split(\":\")\\n        print(role,\" \",\"said: \",linespoken)\\n\\nexcept IOError as err:#if the file is missing\\n    print(\\'File is missing\\'+str(err))\\n\\nfinally :\\n    if data in locals():\\n        data.close()',\n",
       " '_i4': 'try :\\n    data = open(\\'text4.txt\\')\\n    for eachline in data:\\n        (role,linespoken) = eachline.split(\":\")\\n        print(role,\" \",\"said: \",linespoken)\\n\\nexcept IOError as err:#if the file is missing\\n    print(\\'File is missing\\'+str(err))\\n\\nfinally :\\n    if \\'data\\' in locals():\\n        data.close()',\n",
       " '_i5': 'locals()',\n",
       " '_5': {...},\n",
       " '_i6': 'try :\\n    data = open(\\'text4.txt\\')\\n    for eachline in data:\\n        (role,linespoken) = eachline.split(\":\")\\n        print(role,\" \",\"said: \",linespoken)\\n\\nexcept IOError as err:#if the file is missing\\n    print(\\'File is missing\\'+str(err))\\n\\nfinally :\\n    data.close()',\n",
       " '_i7': 'try :\\n    data = open(\\'text4.txt\\')\\n    for eachline in data:\\n        (role,linespoken) = eachline.split(\":\")\\n        print(role,\" \",\"said: \",linespoken)\\n\\nexcept IOError as err:#if the file is missing\\n    print(\\'File is missing\\'+str(err))\\n\\nfinally :\\n    if \\'data\\' in locals():#local BIF return a collection of names defined in the current scope (with in the program)\\n        data.close()',\n",
       " '_i8': 'try :\\n    data = open(\\'text4.txt\\')\\n    for eachline in data:\\n        (role,linespoken) = eachline.split(\":\")\\n        print(role,\" \",\"said: \",linespoken)\\n\\nexcept IOError as err:#err give the exact specific error message \\n    print(\\'File Error:\\'+str(err))\\n\\nfinally :\\n    if \\'data\\' in locals():#local BIF return a collection of names defined in the current scope (with in the program)\\n        data.close()',\n",
       " '_i9': 'locals',\n",
       " '_9': <function locals()>,\n",
       " '_i10': 'locals()'}"
      ]
     },
     "execution_count": 10,
     "metadata": {},
     "output_type": "execute_result"
    }
   ],
   "source": [
    "locals()"
   ]
  },
  {
   "cell_type": "markdown",
   "metadata": {},
   "source": [
    "# Use of with statement"
   ]
  },
  {
   "cell_type": "code",
   "execution_count": 13,
   "metadata": {},
   "outputs": [
    {
     "name": "stdout",
     "output_type": "stream",
     "text": [
      "Man : You didn't!\n",
      " Other Man: I'm telling you, I did!\n",
      " Man: You did not!\n",
      " Other Man: Oh I'm sorry, is this a five minute argument, or the full half hour?\n",
      " Man: Ah! (taking out his wallet and paying) Just the five minutes.\n",
      " Other Man: Just the five minutes. Thank you.\n",
      " Other Man: Anyway, I did.\n",
      " Man: You most certainly did not!\n",
      " Other Man: Now let's get one thing quite clear: I most definitely told you!\n",
      " Man: Oh no you didn't!\n",
      " Other Man: Oh yes I did!\n",
      " Other Man: Now let's get one thing quite clear: I most definitely told you!\n",
      " Man: Oh no you didn't!\n",
      " Other Man: Oh yes I did!\n",
      " Man: Oh no you didn't!\n",
      " Other Man: Oh yes I did!\n",
      " Man: Oh look, this isn't an argument!\n",
      " (pause)\n",
      " Other Man: Yes it is!\n",
      " Man: No it isnâ€™t!\n",
      " (pause)\n",
      " Man: It's just contradiction!\n",
      " Other Man: No it isn't! "
     ]
    }
   ],
   "source": [
    "try :\n",
    "    with open('text2.txt') as data:\n",
    "#when we use with block we no longer need to worry about closing of a opened file Python will automatically takes care of it.\n",
    "#with block takes an advantage of python technology called context management protocol\n",
    "        for eachline in data:\n",
    "            print(eachline,end= \" \")\n",
    "\n",
    "            \n",
    "except IOError as err:\n",
    "    print(\"File Error: \"+str(err))\n",
    "    \n",
    "        "
   ]
  },
  {
   "cell_type": "code",
   "execution_count": 14,
   "metadata": {},
   "outputs": [
    {
     "name": "stdout",
     "output_type": "stream",
     "text": [
      "File Error: [Errno 2] No such file or directory: 'text4.txt'\n"
     ]
    }
   ],
   "source": [
    "try :\n",
    "    with open('text4.txt') as data:\n",
    "#when we use with block we no longer need to worry about closing of a opened file Python will automatically takes care of it.\n",
    "#with block takes an advantage of python technology called context management protocol\n",
    "        for eachline in data:\n",
    "            print(eachline,end= \" \")\n",
    "\n",
    "            \n",
    "except IOError as err:\n",
    "    print(\"File Error: \"+str(err))\n",
    "    \n",
    "        "
   ]
  },
  {
   "cell_type": "code",
   "execution_count": 11,
   "metadata": {},
   "outputs": [
    {
     "name": "stdout",
     "output_type": "stream",
     "text": [
      " You did not!\n",
      "  Ah! (taking out his wallet and paying) Just the five minutes.\n",
      "  You most certainly did not!\n",
      "  Oh no you didn't!\n",
      "  Oh no you didn't!\n",
      "  Oh no you didn't!\n",
      "  Oh look, this isn't an argument!\n",
      "  No it isnâ€™t!\n",
      "  It's just contradiction!\n",
      "  I'm telling you, I did!\n",
      "  Oh I'm sorry, is this a five minute argument, or the full half hour?\n",
      "  Just the five minutes. Thank you.\n",
      "  Anyway, I did.\n",
      "  Now let's get one thing quite clear: I most definitely told you!\n",
      "  Oh yes I did!\n",
      "  Now let's get one thing quite clear: I most definitely told you!\n",
      "  Oh yes I did!\n",
      "  Oh yes I did!\n",
      "  Yes it is!\n",
      "  No it isn't! "
     ]
    }
   ],
   "source": [
    "man= []\n",
    "other = []\n",
    "try:\n",
    "    with open('text2.txt') as data:\n",
    "        for eachline in data:\n",
    "            try:\n",
    "                (role,linespoken)  =  eachline.split(\":\",1)\n",
    "                if role == \"Man\":\n",
    "                    man.append(linespoken)\n",
    "                elif role == \"Other Man\":\n",
    "                    other.append(linespoken)\n",
    "                else:\n",
    "                    pass\n",
    "            except ValueError as err:\n",
    "                pass\n",
    "\n",
    "except IOError as err:\n",
    "    print('File Error:'+str(err))\n",
    "try :\n",
    "    man_file = open('man.txt',\"w\") \n",
    "    other_file = open('other_man.txt',\"w\") \n",
    "        #print(man,file=man_file)\n",
    "        #print(other,file = other_file)\n",
    "except IOError:\n",
    "    pass\n",
    "        \n",
    "        \n",
    "\n",
    "\n",
    "# Writing the list content to the file\n",
    "import sys\n",
    "def printlol(lst,indent=False,level= 0,fh=sys.stdout):\n",
    "    #print(lst)\n",
    "    for eachline in lst:\n",
    "        if isinstance(eachline,list):\n",
    "            printlol(eachline,indent,level,fh)\n",
    "        else : \n",
    "            if indent :\n",
    "                for tabspace in range(level):\n",
    "                    print(\"\\t\",end= \" \",file = fh)\n",
    "            print(eachline,end = \" \")        \n",
    "            print(eachline,end = \" \",file=fh)\n",
    "printlol(man,True,0,man_file)\n",
    "printlol(other,True,0,other_file)\n",
    "\n",
    "\n"
   ]
  },
  {
   "cell_type": "code",
   "execution_count": 9,
   "metadata": {},
   "outputs": [
    {
     "name": "stdout",
     "output_type": "stream",
     "text": [
      " You did not!\n",
      "   Ah! (taking out his wallet and paying) Just the five minutes.\n",
      "   You most certainly did not!\n",
      "   Oh no you didn't!\n",
      "   Oh no you didn't!\n",
      "   Oh no you didn't!\n",
      "   Oh look, this isn't an argument!\n",
      "   No it isnâ€™t!\n",
      "   It's just contradiction!\n",
      "   "
     ]
    }
   ],
   "source": [
    "man_file = open('man.txt')\n",
    "for eachline in man_file:\n",
    "    print(eachline,end = \" \")"
   ]
  },
  {
   "cell_type": "code",
   "execution_count": null,
   "metadata": {},
   "outputs": [],
   "source": []
  }
 ],
 "metadata": {
  "kernelspec": {
   "display_name": "Python 3",
   "language": "python",
   "name": "python3"
  },
  "language_info": {
   "codemirror_mode": {
    "name": "ipython",
    "version": 3
   },
   "file_extension": ".py",
   "mimetype": "text/x-python",
   "name": "python",
   "nbconvert_exporter": "python",
   "pygments_lexer": "ipython3",
   "version": "3.7.3"
  }
 },
 "nbformat": 4,
 "nbformat_minor": 2
}
