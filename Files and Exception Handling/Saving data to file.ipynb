{
 "cells": [
  {
   "cell_type": "markdown",
   "metadata": {},
   "source": [
    "code to satisfy the following requirements:\n",
    "1. Create an empty list called man.\n",
    "2. Create an empty list called other.\n",
    "3. Add a line of code to remove unwanted whitespace from the line_spoken variable.\n",
    "4. Provide the conditions and code to add line_spoken to the correct list based on the value of role.\n",
    "5. Print each of the lists (man and other) to the screen."
   ]
  },
  {
   "cell_type": "code",
   "execution_count": 2,
   "metadata": {},
   "outputs": [
    {
     "data": {
      "text/plain": [
       "[\"Man : You didn't!\\n\",\n",
       " \"Other Man: I'm telling you, I did!\\n\",\n",
       " 'Man: You did not!\\n',\n",
       " \"Other Man: Oh I'm sorry, is this a five minute argument, or the full half hour?\\n\",\n",
       " 'Man: Ah! (taking out his wallet and paying) Just the five minutes.\\n',\n",
       " 'Other Man: Just the five minutes. Thank you.\\n',\n",
       " 'Other Man: Anyway, I did.\\n',\n",
       " 'Man: You most certainly did not!\\n',\n",
       " \"Other Man: Now let's get one thing quite clear: I most definitely told you!\\n\",\n",
       " \"Man: Oh no you didn't!\\n\",\n",
       " 'Other Man: Oh yes I did!\\n',\n",
       " \"Other Man: Now let's get one thing quite clear: I most definitely told you!\\n\",\n",
       " \"Man: Oh no you didn't!\\n\",\n",
       " 'Other Man: Oh yes I did!\\n',\n",
       " \"Man: Oh no you didn't!\\n\",\n",
       " 'Other Man: Oh yes I did!\\n',\n",
       " \"Man: Oh look, this isn't an argument!\\n\",\n",
       " '(pause)\\n',\n",
       " 'Other Man: Yes it is!\\n',\n",
       " 'Man: No it isnâ€™t!\\n',\n",
       " '(pause)\\n',\n",
       " \"Man: It's just contradiction!\\n\",\n",
       " \"Other Man: No it isn't!\"]"
      ]
     },
     "execution_count": 2,
     "metadata": {},
     "output_type": "execute_result"
    }
   ],
   "source": [
    "data = open('text2.txt')\n",
    "data.readlines()"
   ]
  },
  {
   "cell_type": "code",
   "execution_count": 8,
   "metadata": {},
   "outputs": [
    {
     "name": "stdout",
     "output_type": "stream",
     "text": [
      "man : [' You did not!\\n', ' Ah! (taking out his wallet and paying) Just the five minutes.\\n', ' You most certainly did not!\\n', \" Oh no you didn't!\\n\", \" Oh no you didn't!\\n\", \" Oh no you didn't!\\n\", \" Oh look, this isn't an argument!\\n\", ' No it isnâ€™t!\\n', \" It's just contradiction!\\n\"]\n",
      "\n",
      "other : [\" I'm telling you, I did!\\n\", \" Oh I'm sorry, is this a five minute argument, or the full half hour?\\n\", ' Just the five minutes. Thank you.\\n', ' Anyway, I did.\\n', \" Now let's get one thing quite clear: I most definitely told you!\\n\", ' Oh yes I did!\\n', \" Now let's get one thing quite clear: I most definitely told you!\\n\", ' Oh yes I did!\\n', ' Oh yes I did!\\n', ' Yes it is!\\n', \" No it isn't!\"] "
     ]
    }
   ],
   "source": [
    "man = []\n",
    "other = []\n",
    "try :\n",
    "    data = open('text2.txt')\n",
    "    for eachline in data :\n",
    "        try :\n",
    "            (role,line_spoken) = eachline.split(\":\",1)\n",
    "            if role == 'Man':\n",
    "                man.append(line_spoken)\n",
    "            elif role =='Other Man':\n",
    "                other.append(line_spoken)\n",
    "            else :\n",
    "                pass\n",
    "        except ValueError:\n",
    "            pass\n",
    "    data.close()#closing the file after its use \n",
    "except IOError:\n",
    "    print('File is Missing')\n",
    "print('man :',man, end = '\\n\\n')\n",
    "print('other :',other,end= ' ')"
   ]
  },
  {
   "cell_type": "markdown",
   "metadata": {},
   "source": [
    "# Saving the list data into files "
   ]
  },
  {
   "cell_type": "code",
   "execution_count": 13,
   "metadata": {},
   "outputs": [],
   "source": [
    "try:\n",
    "    out_man = open('man.txt',\"w\") # opening the file in write mode \n",
    "    out_other = open('other_man.txt',\"w\")\n",
    "    \n",
    "    print(man,file= out_man)\n",
    "    print(other,file=out_other)\n",
    "    \n",
    "    out_man.close()# this is not the exact way to close file before the except block\n",
    "    out_other.close()# if the file coudnt open then the code may crash \n",
    "    #so we need to close the files after except block using finally BIF function\n",
    "\n",
    "except IOError:\n",
    "    \n",
    "    print(\"File is Missing\")"
   ]
  },
  {
   "cell_type": "code",
   "execution_count": 14,
   "metadata": {},
   "outputs": [
    {
     "data": {
      "text/plain": [
       "['[\\' You did not!\\\\n\\', \\' Ah! (taking out his wallet and paying) Just the five minutes.\\\\n\\', \\' You most certainly did not!\\\\n\\', \" Oh no you didn\\'t!\\\\n\", \" Oh no you didn\\'t!\\\\n\", \" Oh no you didn\\'t!\\\\n\", \" Oh look, this isn\\'t an argument!\\\\n\", \\' No it isnâ€™t!\\\\n\\', \" It\\'s just contradiction!\\\\n\"]\\n']"
      ]
     },
     "execution_count": 14,
     "metadata": {},
     "output_type": "execute_result"
    }
   ],
   "source": [
    "out1 = open('man.txt')\n",
    "out1.readlines()"
   ]
  },
  {
   "cell_type": "code",
   "execution_count": 15,
   "metadata": {},
   "outputs": [
    {
     "data": {
      "text/plain": [
       "['[\" I\\'m telling you, I did!\\\\n\", \" Oh I\\'m sorry, is this a five minute argument, or the full half hour?\\\\n\", \\' Just the five minutes. Thank you.\\\\n\\', \\' Anyway, I did.\\\\n\\', \" Now let\\'s get one thing quite clear: I most definitely told you!\\\\n\", \\' Oh yes I did!\\\\n\\', \" Now let\\'s get one thing quite clear: I most definitely told you!\\\\n\", \\' Oh yes I did!\\\\n\\', \\' Oh yes I did!\\\\n\\', \\' Yes it is!\\\\n\\', \" No it isn\\'t!\"]\\n']"
      ]
     },
     "execution_count": 15,
     "metadata": {},
     "output_type": "execute_result"
    }
   ],
   "source": [
    "out2 = open('other_man.txt')\n",
    "out2.readlines()"
   ]
  },
  {
   "cell_type": "markdown",
   "metadata": {},
   "source": [
    "# Using finally BIF(built in function)"
   ]
  },
  {
   "cell_type": "code",
   "execution_count": 16,
   "metadata": {},
   "outputs": [],
   "source": [
    "try:\n",
    "    out_man = open('man.txt',\"w\") \n",
    "    out_other = open('other_man.txt',\"w\")\n",
    "    \n",
    "    print(man,file= out_man)\n",
    "    print(other,file=out_other)\n",
    "    \n",
    "except IOError:\n",
    "    print(\"File is Missing\")\n",
    "    \n",
    "finally:\n",
    "    out_man.close()\n",
    "    out_other.close()"
   ]
  },
  {
   "cell_type": "code",
   "execution_count": null,
   "metadata": {},
   "outputs": [],
   "source": []
  }
 ],
 "metadata": {
  "kernelspec": {
   "display_name": "Python 3",
   "language": "python",
   "name": "python3"
  },
  "language_info": {
   "codemirror_mode": {
    "name": "ipython",
    "version": 3
   },
   "file_extension": ".py",
   "mimetype": "text/x-python",
   "name": "python",
   "nbconvert_exporter": "python",
   "pygments_lexer": "ipython3",
   "version": "3.7.3"
  }
 },
 "nbformat": 4,
 "nbformat_minor": 2
}
