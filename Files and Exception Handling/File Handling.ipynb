{
 "cells": [
  {
   "cell_type": "code",
   "execution_count": 1,
   "metadata": {},
   "outputs": [
    {
     "data": {
      "text/plain": [
       "'D:\\\\DataScience\\\\Python\\\\File handling'"
      ]
     },
     "execution_count": 1,
     "metadata": {},
     "output_type": "execute_result"
    }
   ],
   "source": [
    "import os\n",
    "os.getcwd()"
   ]
  },
  {
   "cell_type": "code",
   "execution_count": 2,
   "metadata": {},
   "outputs": [
    {
     "data": {
      "text/plain": [
       "['.ipynb_checkpoints', 'File Handling - 1.ipynb', 'text1.txt']"
      ]
     },
     "execution_count": 2,
     "metadata": {},
     "output_type": "execute_result"
    }
   ],
   "source": [
    "os.listdir()"
   ]
  },
  {
   "cell_type": "code",
   "execution_count": 3,
   "metadata": {},
   "outputs": [
    {
     "data": {
      "text/plain": [
       "\"M a n : You didn't!\\n\""
      ]
     },
     "execution_count": 3,
     "metadata": {},
     "output_type": "execute_result"
    }
   ],
   "source": [
    "data = open('text1.txt')\n",
    "data.readline()"
   ]
  },
  {
   "cell_type": "code",
   "execution_count": 4,
   "metadata": {},
   "outputs": [
    {
     "data": {
      "text/plain": [
       "0"
      ]
     },
     "execution_count": 4,
     "metadata": {},
     "output_type": "execute_result"
    }
   ],
   "source": [
    "data.seek(0)# used to return to the start of the file "
   ]
  },
  {
   "cell_type": "code",
   "execution_count": 5,
   "metadata": {},
   "outputs": [
    {
     "data": {
      "text/plain": [
       "0"
      ]
     },
     "execution_count": 5,
     "metadata": {},
     "output_type": "execute_result"
    }
   ],
   "source": [
    "data.tell()# tells the position of the file "
   ]
  },
  {
   "cell_type": "code",
   "execution_count": 6,
   "metadata": {},
   "outputs": [
    {
     "data": {
      "text/plain": [
       "\"M a n : You didn't!\\n\""
      ]
     },
     "execution_count": 6,
     "metadata": {},
     "output_type": "execute_result"
    }
   ],
   "source": [
    "data.readline()"
   ]
  },
  {
   "cell_type": "code",
   "execution_count": 7,
   "metadata": {},
   "outputs": [
    {
     "data": {
      "text/plain": [
       "21"
      ]
     },
     "execution_count": 7,
     "metadata": {},
     "output_type": "execute_result"
    }
   ],
   "source": [
    "data.tell()"
   ]
  },
  {
   "cell_type": "code",
   "execution_count": 8,
   "metadata": {},
   "outputs": [
    {
     "name": "stdout",
     "output_type": "stream",
     "text": [
      "Other Man: I'm telling you, I did!\n",
      " Man: You did not!\n",
      " Other Man: Oh I'm sorry, is this a five minute argument, or the full half hour?\n",
      " Man: Ah! (taking out his wallet and paying) Just the five minutes.\n",
      " Other Man: Just the five minutes. Thank you.\n",
      " Other Man: Anyway, I did.\n",
      " Man: You most certainly did not!\n",
      " Other Man: Now let's get one thing quite clear: I most definitely told you!\n",
      " Man: Oh no you didn't!\n",
      " Other Man: Oh yes I did! "
     ]
    }
   ],
   "source": [
    "for eachline in data:\n",
    "    print(eachline,end= \" \")"
   ]
  },
  {
   "cell_type": "code",
   "execution_count": 9,
   "metadata": {},
   "outputs": [],
   "source": [
    "data.close()"
   ]
  },
  {
   "cell_type": "code",
   "execution_count": 10,
   "metadata": {},
   "outputs": [
    {
     "ename": "ValueError",
     "evalue": "I/O operation on closed file.",
     "output_type": "error",
     "traceback": [
      "\u001b[1;31m---------------------------------------------------------------------------\u001b[0m",
      "\u001b[1;31mValueError\u001b[0m                                Traceback (most recent call last)",
      "\u001b[1;32m<ipython-input-10-b4d6a48fe4b5>\u001b[0m in \u001b[0;36m<module>\u001b[1;34m\u001b[0m\n\u001b[1;32m----> 1\u001b[1;33m \u001b[1;32mfor\u001b[0m \u001b[0mi\u001b[0m \u001b[1;32min\u001b[0m \u001b[0mdata\u001b[0m\u001b[1;33m:\u001b[0m\u001b[1;33m\u001b[0m\u001b[1;33m\u001b[0m\u001b[0m\n\u001b[0m\u001b[0;32m      2\u001b[0m     \u001b[0mprint\u001b[0m\u001b[1;33m(\u001b[0m\u001b[0mi\u001b[0m\u001b[1;33m)\u001b[0m\u001b[1;31m# once the file is close we cannot perform any I/O operations on it\u001b[0m\u001b[1;33m\u001b[0m\u001b[1;33m\u001b[0m\u001b[0m\n",
      "\u001b[1;31mValueError\u001b[0m: I/O operation on closed file."
     ]
    }
   ],
   "source": [
    "for i in data:\n",
    "    print(i)# once the file is close we cannot perform any I/O operations on it "
   ]
  },
  {
   "cell_type": "code",
   "execution_count": 11,
   "metadata": {},
   "outputs": [
    {
     "data": {
      "text/plain": [
       "[\"M a n : You didn't!\\n\",\n",
       " \"Other Man: I'm telling you, I did!\\n\",\n",
       " 'Man: You did not!\\n',\n",
       " \"Other Man: Oh I'm sorry, is this a five minute argument, or the full half hour?\\n\",\n",
       " 'Man: Ah! (taking out his wallet and paying) Just the five minutes.\\n',\n",
       " 'Other Man: Just the five minutes. Thank you.\\n',\n",
       " 'Other Man: Anyway, I did.\\n',\n",
       " 'Man: You most certainly did not!\\n',\n",
       " \"Other Man: Now let's get one thing quite clear: I most definitely told you!\\n\",\n",
       " \"Man: Oh no you didn't!\\n\",\n",
       " 'Other Man: Oh yes I did!']"
      ]
     },
     "execution_count": 11,
     "metadata": {},
     "output_type": "execute_result"
    }
   ],
   "source": [
    "data = open(\"text1.txt\")\n",
    "data.readlines()"
   ]
  },
  {
   "cell_type": "code",
   "execution_count": 12,
   "metadata": {},
   "outputs": [
    {
     "name": "stdout",
     "output_type": "stream",
     "text": [
      "M a n  said :  You didn't!\n",
      " Other Man said :  I'm telling you, I did!\n",
      " Man said :  You did not!\n",
      " Other Man said :  Oh I'm sorry, is this a five minute argument, or the full half hour?\n",
      " Man said :  Ah! (taking out his wallet and paying) Just the five minutes.\n",
      " Other Man said :  Just the five minutes. Thank you.\n",
      " Other Man said :  Anyway, I did.\n",
      " Man said :  You most certainly did not!\n",
      " "
     ]
    },
    {
     "ename": "ValueError",
     "evalue": "too many values to unpack (expected 2)",
     "output_type": "error",
     "traceback": [
      "\u001b[1;31m---------------------------------------------------------------------------\u001b[0m",
      "\u001b[1;31mValueError\u001b[0m                                Traceback (most recent call last)",
      "\u001b[1;32m<ipython-input-12-1554eb763a17>\u001b[0m in \u001b[0;36m<module>\u001b[1;34m\u001b[0m\n\u001b[0;32m      1\u001b[0m \u001b[0mdata\u001b[0m \u001b[1;33m=\u001b[0m \u001b[0mopen\u001b[0m\u001b[1;33m(\u001b[0m\u001b[1;34m'text1.txt'\u001b[0m\u001b[1;33m)\u001b[0m\u001b[1;33m\u001b[0m\u001b[1;33m\u001b[0m\u001b[0m\n\u001b[0;32m      2\u001b[0m \u001b[1;32mfor\u001b[0m \u001b[0meachline\u001b[0m \u001b[1;32min\u001b[0m \u001b[0mdata\u001b[0m\u001b[1;33m:\u001b[0m\u001b[1;33m\u001b[0m\u001b[1;33m\u001b[0m\u001b[0m\n\u001b[1;32m----> 3\u001b[1;33m     \u001b[1;33m(\u001b[0m\u001b[0mrole\u001b[0m\u001b[1;33m,\u001b[0m\u001b[0mline_spoken\u001b[0m\u001b[1;33m)\u001b[0m \u001b[1;33m=\u001b[0m \u001b[0meachline\u001b[0m\u001b[1;33m.\u001b[0m\u001b[0msplit\u001b[0m\u001b[1;33m(\u001b[0m\u001b[1;34m\":\"\u001b[0m\u001b[1;33m)\u001b[0m\u001b[1;31m#spli\u001b[0m\u001b[1;33m\u001b[0m\u001b[1;33m\u001b[0m\u001b[0m\n\u001b[0m\u001b[0;32m      4\u001b[0m     \u001b[0mprint\u001b[0m\u001b[1;33m(\u001b[0m\u001b[0mrole\u001b[0m\u001b[1;33m,\u001b[0m\u001b[0mend\u001b[0m\u001b[1;33m=\u001b[0m\u001b[1;34m\" \"\u001b[0m\u001b[1;33m)\u001b[0m\u001b[1;33m\u001b[0m\u001b[1;33m\u001b[0m\u001b[0m\n\u001b[0;32m      5\u001b[0m     \u001b[0mprint\u001b[0m\u001b[1;33m(\u001b[0m\u001b[1;34m\"said\"\u001b[0m\u001b[1;33m,\u001b[0m \u001b[0mend\u001b[0m\u001b[1;33m=\u001b[0m \u001b[1;34m\" : \"\u001b[0m\u001b[1;33m)\u001b[0m\u001b[1;33m\u001b[0m\u001b[1;33m\u001b[0m\u001b[0m\n",
      "\u001b[1;31mValueError\u001b[0m: too many values to unpack (expected 2)"
     ]
    }
   ],
   "source": [
    "data = open('text1.txt')\n",
    "for eachline in data:\n",
    "    (role,line_spoken) = eachline.split(\":\")#spli\n",
    "    print(role,end=\" \")\n",
    "    print(\"said\", end= \" : \")\n",
    "    print(line_spoken,end= \" \")"
   ]
  },
  {
   "cell_type": "markdown",
   "metadata": {},
   "source": [
    "* value error has occured duto there are 2 \":\" in this sentence :\n",
    " - \"Other Man: Now let's get one thing quite clear: I most definitely told you!\\n\""
   ]
  },
  {
   "cell_type": "code",
   "execution_count": 13,
   "metadata": {},
   "outputs": [
    {
     "name": "stdout",
     "output_type": "stream",
     "text": [
      "Help on built-in function split:\n",
      "\n",
      "split(sep=None, maxsplit=-1) method of builtins.str instance\n",
      "    Return a list of the words in the string, using sep as the delimiter string.\n",
      "    \n",
      "    sep\n",
      "      The delimiter according which to split the string.\n",
      "      None (the default value) means split according to any whitespace,\n",
      "      and discard empty strings from the result.\n",
      "    maxsplit\n",
      "      Maximum number of splits to do.\n",
      "      -1 (the default value) means no limit.\n",
      "\n"
     ]
    }
   ],
   "source": [
    "help(eachline.split) # by default maxsplit is set to -1 "
   ]
  },
  {
   "cell_type": "code",
   "execution_count": 16,
   "metadata": {},
   "outputs": [
    {
     "name": "stdout",
     "output_type": "stream",
     "text": [
      "M a n  said: You didn't!\n",
      " Other Man said: I'm telling you, I did!\n",
      " Man said: You did not!\n",
      " Other Man said: Oh I'm sorry, is this a five minute argument, or the full half hour?\n",
      " Man said: Ah! (taking out his wallet and paying) Just the five minutes.\n",
      " Other Man said: Just the five minutes. Thank you.\n",
      " Other Man said: Anyway, I did.\n",
      " Man said: You most certainly did not!\n",
      " Other Man said: Now let's get one thing quite clear: I most definitely told you!\n",
      " "
     ]
    }
   ],
   "source": [
    "data = open('text1.txt')\n",
    "for lines in data:\n",
    "    (role,script) = lines.split(\":\",1)\n",
    "    print(role,end= \" \")\n",
    "    print('said',end= \":\")\n",
    "    print(script,end = \" \")"
   ]
  },
  {
   "cell_type": "code",
   "execution_count": 18,
   "metadata": {},
   "outputs": [
    {
     "data": {
      "text/plain": [
       "[\"M a n : You didn't!\\n\",\n",
       " \"Other Man: I'm telling you, I did!\\n\",\n",
       " 'Man: You did not!\\n',\n",
       " \"Other Man: Oh I'm sorry, is this a five minute argument, or the full half hour?\\n\",\n",
       " 'Man: Ah! (taking out his wallet and paying) Just the five minutes.\\n',\n",
       " 'Other Man: Just the five minutes. Thank you.\\n',\n",
       " 'Other Man: Anyway, I did.\\n',\n",
       " 'Man: You most certainly did not!\\n',\n",
       " \"Other Man: Now let's get one thing quite clear: I most definitely told you!\\n\",\n",
       " \"Man: Oh no you didn't!\\n\",\n",
       " 'Other Man: Oh yes I did!\\n',\n",
       " \"Other Man: Now let's get one thing quite clear: I most definitely told you!\\n\",\n",
       " \"Man: Oh no you didn't!\\n\",\n",
       " 'Other Man: Oh yes I did!\\n',\n",
       " \"Man: Oh no you didn't!\\n\",\n",
       " 'Other Man: Oh yes I did!\\n',\n",
       " \"Man: Oh look, this isn't an argument!\\n\",\n",
       " '(pause)\\n',\n",
       " 'Other Man: Yes it is!\\n',\n",
       " 'Man: No it isnâ€™t!\\n',\n",
       " '(pause)\\n',\n",
       " \"Man: It's just contradiction!\\n\",\n",
       " \"Other Man: No it isn't!\"]"
      ]
     },
     "execution_count": 18,
     "metadata": {},
     "output_type": "execute_result"
    }
   ],
   "source": [
    "data = open('text2.txt')\n",
    "data.readlines()"
   ]
  },
  {
   "cell_type": "code",
   "execution_count": 17,
   "metadata": {},
   "outputs": [
    {
     "name": "stdout",
     "output_type": "stream",
     "text": [
      "M a n  said: You didn't!\n",
      " Other Man said: I'm telling you, I did!\n",
      " Man said: You did not!\n",
      " Other Man said: Oh I'm sorry, is this a five minute argument, or the full half hour?\n",
      " Man said: Ah! (taking out his wallet and paying) Just the five minutes.\n",
      " Other Man said: Just the five minutes. Thank you.\n",
      " Other Man said: Anyway, I did.\n",
      " Man said: You most certainly did not!\n",
      " Other Man said: Now let's get one thing quite clear: I most definitely told you!\n",
      " Man said: Oh no you didn't!\n",
      " Other Man said: Oh yes I did!\n",
      " Other Man said: Now let's get one thing quite clear: I most definitely told you!\n",
      " Man said: Oh no you didn't!\n",
      " Other Man said: Oh yes I did!\n",
      " Man said: Oh no you didn't!\n",
      " Other Man said: Oh yes I did!\n",
      " Man said: Oh look, this isn't an argument!\n",
      " "
     ]
    },
    {
     "ename": "ValueError",
     "evalue": "not enough values to unpack (expected 2, got 1)",
     "output_type": "error",
     "traceback": [
      "\u001b[1;31m---------------------------------------------------------------------------\u001b[0m",
      "\u001b[1;31mValueError\u001b[0m                                Traceback (most recent call last)",
      "\u001b[1;32m<ipython-input-17-f132f4915432>\u001b[0m in \u001b[0;36m<module>\u001b[1;34m\u001b[0m\n\u001b[0;32m      1\u001b[0m \u001b[0mdata\u001b[0m \u001b[1;33m=\u001b[0m \u001b[0mopen\u001b[0m\u001b[1;33m(\u001b[0m\u001b[1;34m'text2.txt'\u001b[0m\u001b[1;33m)\u001b[0m\u001b[1;33m\u001b[0m\u001b[1;33m\u001b[0m\u001b[0m\n\u001b[0;32m      2\u001b[0m \u001b[1;32mfor\u001b[0m \u001b[0mlines\u001b[0m \u001b[1;32min\u001b[0m \u001b[0mdata\u001b[0m\u001b[1;33m:\u001b[0m\u001b[1;33m\u001b[0m\u001b[1;33m\u001b[0m\u001b[0m\n\u001b[1;32m----> 3\u001b[1;33m     \u001b[1;33m(\u001b[0m\u001b[0mrole\u001b[0m\u001b[1;33m,\u001b[0m\u001b[0mscript\u001b[0m\u001b[1;33m)\u001b[0m \u001b[1;33m=\u001b[0m \u001b[0mlines\u001b[0m\u001b[1;33m.\u001b[0m\u001b[0msplit\u001b[0m\u001b[1;33m(\u001b[0m\u001b[1;34m\":\"\u001b[0m\u001b[1;33m,\u001b[0m\u001b[1;36m1\u001b[0m\u001b[1;33m)\u001b[0m\u001b[1;33m\u001b[0m\u001b[1;33m\u001b[0m\u001b[0m\n\u001b[0m\u001b[0;32m      4\u001b[0m     \u001b[0mprint\u001b[0m\u001b[1;33m(\u001b[0m\u001b[0mrole\u001b[0m\u001b[1;33m,\u001b[0m\u001b[0mend\u001b[0m\u001b[1;33m=\u001b[0m \u001b[1;34m\" \"\u001b[0m\u001b[1;33m)\u001b[0m\u001b[1;33m\u001b[0m\u001b[1;33m\u001b[0m\u001b[0m\n\u001b[0;32m      5\u001b[0m     \u001b[0mprint\u001b[0m\u001b[1;33m(\u001b[0m\u001b[1;34m'said'\u001b[0m\u001b[1;33m,\u001b[0m\u001b[0mend\u001b[0m\u001b[1;33m=\u001b[0m \u001b[1;34m\":\"\u001b[0m\u001b[1;33m)\u001b[0m\u001b[1;33m\u001b[0m\u001b[1;33m\u001b[0m\u001b[0m\n",
      "\u001b[1;31mValueError\u001b[0m: not enough values to unpack (expected 2, got 1)"
     ]
    }
   ],
   "source": [
    "data = open('text2.txt')\n",
    "for lines in data:\n",
    "    (role,script) = lines.split(\":\",1)\n",
    "    print(role,end= \" \")\n",
    "    print('said',end= \":\")\n",
    "    print(script,end = \" \")"
   ]
  },
  {
   "cell_type": "code",
   "execution_count": null,
   "metadata": {},
   "outputs": [],
   "source": [
    "* when the split function does not find and \":\" then it throws a value error \n",
    "* we need to resolve this issue by using "
   ]
  },
  {
   "cell_type": "code",
   "execution_count": 23,
   "metadata": {},
   "outputs": [],
   "source": [
    "d = \"Man: Oh look, this isn't an argument!\\n\"\n",
    "c =  '(pause)\\n'"
   ]
  },
  {
   "cell_type": "code",
   "execution_count": 27,
   "metadata": {},
   "outputs": [
    {
     "data": {
      "text/plain": [
       "3"
      ]
     },
     "execution_count": 27,
     "metadata": {},
     "output_type": "execute_result"
    }
   ],
   "source": [
    "d.find(':')"
   ]
  },
  {
   "cell_type": "code",
   "execution_count": 28,
   "metadata": {},
   "outputs": [
    {
     "data": {
      "text/plain": [
       "-1"
      ]
     },
     "execution_count": 28,
     "metadata": {},
     "output_type": "execute_result"
    }
   ],
   "source": [
    "c.find(':')"
   ]
  },
  {
   "cell_type": "code",
   "execution_count": 32,
   "metadata": {},
   "outputs": [
    {
     "name": "stdout",
     "output_type": "stream",
     "text": [
      "M a n  said: You didn't!\n",
      " Other Man said: I'm telling you, I did!\n",
      " Man said: You did not!\n",
      " Other Man said: Oh I'm sorry, is this a five minute argument, or the full half hour?\n",
      " Man said: Ah! (taking out his wallet and paying) Just the five minutes.\n",
      " Other Man said: Just the five minutes. Thank you.\n",
      " Other Man said: Anyway, I did.\n",
      " Man said: You most certainly did not!\n",
      " Other Man said: Now let's get one thing quite clear: I most definitely told you!\n",
      " Man said: Oh no you didn't!\n",
      " Other Man said: Oh yes I did!\n",
      " Other Man said: Now let's get one thing quite clear: I most definitely told you!\n",
      " Man said: Oh no you didn't!\n",
      " Other Man said: Oh yes I did!\n",
      " Man said: Oh no you didn't!\n",
      " Other Man said: Oh yes I did!\n",
      " Man said: Oh look, this isn't an argument!\n",
      " (pause)\n",
      " Other Man said: Yes it is!\n",
      " Man said: No it isnâ€™t!\n",
      " (pause)\n",
      " Man said: It's just contradiction!\n",
      " Other Man said: No it isn't! "
     ]
    }
   ],
   "source": [
    "data = open('text2.txt')\n",
    "for eachline in data:\n",
    "    if not eachline.find(\":\") == -1:\n",
    "        (role,script) = eachline.split(\":\",1)\n",
    "        print(role,end= ' ')\n",
    "        print('said',end = ':')\n",
    "        print(script,end= ' ')\n",
    "    else:\n",
    "        print(eachline,end= ' ')"
   ]
  }
 ],
 "metadata": {
  "kernelspec": {
   "display_name": "Python 3",
   "language": "python",
   "name": "python3"
  },
  "language_info": {
   "codemirror_mode": {
    "name": "ipython",
    "version": 3
   },
   "file_extension": ".py",
   "mimetype": "text/x-python",
   "name": "python",
   "nbconvert_exporter": "python",
   "pygments_lexer": "ipython3",
   "version": "3.7.3"
  }
 },
 "nbformat": 4,
 "nbformat_minor": 2
}
