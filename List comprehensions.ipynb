{
 "cells": [
  {
   "cell_type": "markdown",
   "metadata": {},
   "source": [
    "# List Comprehension "
   ]
  },
  {
   "cell_type": "code",
   "execution_count": 2,
   "metadata": {},
   "outputs": [
    {
     "name": "stdout",
     "output_type": "stream",
     "text": [
      "[1, 4, 9, 16, 25, 36, 49, 64, 81, 100, 121, 144, 169, 196, 225, 256, 289, 324, 361, 400, 441, 484, 529, 576, 625, 676, 729, 784, 841, 900, 961, 1024, 1089, 1156, 1225, 1296, 1369, 1444, 1521, 1600, 1681, 1764, 1849, 1936, 2025, 2116, 2209, 2304, 2401]\n"
     ]
    }
   ],
   "source": [
    "squares=[]\n",
    "for i in range(1,50):\n",
    "    squares.append(i**2)\n",
    "print(squares)"
   ]
  },
  {
   "cell_type": "code",
   "execution_count": 3,
   "metadata": {},
   "outputs": [
    {
     "name": "stdout",
     "output_type": "stream",
     "text": [
      "[1, 4, 9, 16, 25, 36, 49, 64, 81, 100, 121, 144, 169, 196, 225, 256, 289, 324, 361, 400, 441, 484, 529, 576, 625, 676, 729, 784, 841, 900, 961, 1024, 1089, 1156, 1225, 1296, 1369, 1444, 1521, 1600, 1681, 1764, 1849, 1936, 2025, 2116, 2209, 2304, 2401]\n"
     ]
    }
   ],
   "source": [
    "squares2=[i**2 for i in range(1,50)]\n",
    "print(squares2)"
   ]
  },
  {
   "cell_type": "code",
   "execution_count": 6,
   "metadata": {},
   "outputs": [],
   "source": [
    "key_words=['elif', 'else', 'raise', 'while', 'continue', 'as', 'class', 'def', 'yield', 'nonlocal', 'pass', 'del', \n",
    " 'return', 'except', 'assert', 'import', 'from', 'and', 'break', 'if', 'with', 'global', 'try', \n",
    " 'is', 'or', 'lambda', 'finally', 'for', 'not', 'in']"
   ]
  },
  {
   "cell_type": "code",
   "execution_count": 8,
   "metadata": {},
   "outputs": [
    {
     "data": {
      "text/plain": [
       "['elif', 'else', 'except']"
      ]
     },
     "execution_count": 8,
     "metadata": {},
     "output_type": "execute_result"
    }
   ],
   "source": [
    "st=[i for i in key_words if i.startswith('e')]\n",
    "st"
   ]
  },
  {
   "cell_type": "code",
   "execution_count": 10,
   "metadata": {},
   "outputs": [
    {
     "name": "stdout",
     "output_type": "stream",
     "text": [
      "['elif', 'else', 'raise', 'while', 'continue', 'class', 'yield', 'nonlocal', 'pass', 'return', 'except', 'assert', 'import', 'from', 'break', 'with', 'global', 'lambda', 'finally']"
     ]
    }
   ],
   "source": [
    "st=[i for i in key_words if len(i)>3]\n",
    "print(st,end='')"
   ]
  },
  {
   "cell_type": "code",
   "execution_count": 11,
   "metadata": {},
   "outputs": [
    {
     "data": {
      "text/plain": [
       "[2, 5, 6, 2, 5, 6]"
      ]
     },
     "execution_count": 11,
     "metadata": {},
     "output_type": "execute_result"
    }
   ],
   "source": [
    "ls=[2,5,6]\n",
    "ls*2"
   ]
  },
  {
   "cell_type": "code",
   "execution_count": 13,
   "metadata": {},
   "outputs": [
    {
     "data": {
      "text/plain": [
       "[4, 10, 12]"
      ]
     },
     "execution_count": 13,
     "metadata": {},
     "output_type": "execute_result"
    }
   ],
   "source": [
    "d=[i*2 for i in ls ]\n",
    "d"
   ]
  },
  {
   "cell_type": "code",
   "execution_count": 14,
   "metadata": {},
   "outputs": [
    {
     "data": {
      "text/plain": [
       "[(2, 3), (2, 7), (2, 9), (5, 3), (5, 7), (5, 9), (6, 3), (6, 7), (6, 9)]"
      ]
     },
     "execution_count": 14,
     "metadata": {},
     "output_type": "execute_result"
    }
   ],
   "source": [
    "ls1=[2,5,6]\n",
    "ls2=[3,7,9]\n",
    "st=[(a,b) for a in ls1 for b in ls2]\n",
    "st\n"
   ]
  },
  {
   "cell_type": "code",
   "execution_count": 16,
   "metadata": {},
   "outputs": [
    {
     "name": "stdout",
     "output_type": "stream",
     "text": [
      "['elif', 'else', 'raise', 'while', 'continue', 'as', 'class', 'def', 'yield', 'nonlocal', 'pass', 'del', 'return', 'except', 'assert', 'import', 'from', 'and', 'break', 'if', 'with', 'global', 'try', 'is', 'or', 'lambda', 'finally', 'for', 'not', 'in']"
     ]
    }
   ],
   "source": [
    "print(key_words,end='')"
   ]
  },
  {
   "cell_type": "markdown",
   "metadata": {},
   "source": [
    "- creating duplicate or multiple keys to increase the count of the key word"
   ]
  },
  {
   "cell_type": "code",
   "execution_count": 55,
   "metadata": {},
   "outputs": [
    {
     "name": "stdout",
     "output_type": "stream",
     "text": [
      "['if', 'if', 'if', 'if', 'for', 'in', 'return', 'class', 'break', 'del', 'def', 'as', 'yield', 'else', 'finally', 'finally', 'finally', 'finally', 'finally', 'finally', 'finally', 'elif', 'and', 'while', 'import', 'def', 'except', 'try', 'from', 'lambda', 'finally', 'with', 'is', 'pass', 'nonlocal', 'or', 'or', 'or', 'or', 'global', 'not', 'finally', 'continue', 'assert', 'raise', 'raise', 'raise', 'raise', 'raise', 'raise', 'raise', 'raise', 'raise', 'except']"
     ]
    }
   ],
   "source": [
    "a=['if','if','if','if','for','in','return','class','break','del','def','as','yield','else','finally','finally','finally','finally','finally','finally','finally','elif','and','while','import','def','except','try','from',\n",
    "  'lambda','finally','with','is','pass','nonlocal','or','or','or','or','global','not','finally','continue','assert','raise','raise','raise','raise','raise','raise','raise','raise','raise','except']\n",
    "print(a,end='')"
   ]
  },
  {
   "cell_type": "code",
   "execution_count": 56,
   "metadata": {},
   "outputs": [
    {
     "name": "stdout",
     "output_type": "stream",
     "text": [
      "('if', 1)('if', 2)('if', 3)('if', 4)('for', 5)('in', 6)('return', 7)('class', 8)('break', 9)('del', 10)('def', 11)('as', 12)('yield', 13)('else', 14)('finally', 15)('finally', 16)('finally', 17)('finally', 18)('finally', 19)('finally', 20)('finally', 21)('elif', 22)('and', 23)('while', 24)('import', 25)('def', 26)('except', 27)('try', 28)('from', 29)('lambda', 30)('finally', 31)('with', 32)('is', 33)('pass', 34)('nonlocal', 35)('or', 36)('or', 37)('or', 38)('or', 39)('global', 40)('not', 41)('finally', 42)('continue', 43)('assert', 44)('raise', 45)('raise', 46)('raise', 47)('raise', 48)('raise', 49)('raise', 50)('raise', 51)('raise', 52)('raise', 53)('except', 54)"
     ]
    }
   ],
   "source": [
    "b=[]\n",
    "count=0\n",
    "for i in a:\n",
    "    if i==i:\n",
    "        count+=1\n",
    "        t=(i,count)\n",
    "    print(t,end='')"
   ]
  },
  {
   "cell_type": "markdown",
   "metadata": {},
   "source": [
    "- finding the count of the key words using list compresion"
   ]
  },
  {
   "cell_type": "code",
   "execution_count": 57,
   "metadata": {},
   "outputs": [
    {
     "data": {
      "text/plain": [
       "[('in', 1),\n",
       " ('except', 2),\n",
       " ('from', 1),\n",
       " ('with', 1),\n",
       " ('pass', 1),\n",
       " ('del', 1),\n",
       " ('if', 4),\n",
       " ('try', 1),\n",
       " ('for', 1),\n",
       " ('global', 1),\n",
       " ('assert', 1),\n",
       " ('and', 1),\n",
       " ('nonlocal', 1),\n",
       " ('finally', 9),\n",
       " ('yield', 1),\n",
       " ('class', 1),\n",
       " ('continue', 1),\n",
       " ('is', 1),\n",
       " ('lambda', 1),\n",
       " ('or', 4),\n",
       " ('elif', 1),\n",
       " ('def', 2),\n",
       " ('import', 1),\n",
       " ('raise', 9),\n",
       " ('break', 1),\n",
       " ('while', 1),\n",
       " ('else', 1),\n",
       " ('as', 1),\n",
       " ('return', 1),\n",
       " ('not', 1)]"
      ]
     },
     "execution_count": 57,
     "metadata": {},
     "output_type": "execute_result"
    }
   ],
   "source": [
    "\n",
    "st=[(i,(a.count(i))) for i in set(a)]\n",
    "st"
   ]
  },
  {
   "cell_type": "code",
   "execution_count": 54,
   "metadata": {},
   "outputs": [
    {
     "data": {
      "text/plain": [
       "[('if', 4)]"
      ]
     },
     "execution_count": 54,
     "metadata": {},
     "output_type": "execute_result"
    }
   ],
   "source": [
    "d=[(keyword,count) for (keyword,count) in st if count>3 ]\n",
    "d"
   ]
  },
  {
   "cell_type": "markdown",
   "metadata": {},
   "source": [
    "- List Comprehension as an Alternative to...\n",
    "- List comprehension is a complete substitute to for loops, lambda function as well as the functions map(), filter() and reduce(). What's more, for some people, list comprehension can even be easier to understand and use in practice! You'll read more about this in the next section!"
   ]
  },
  {
   "cell_type": "code",
   "execution_count": null,
   "metadata": {},
   "outputs": [],
   "source": []
  }
 ],
 "metadata": {
  "kernelspec": {
   "display_name": "Python 3",
   "language": "python",
   "name": "python3"
  },
  "language_info": {
   "codemirror_mode": {
    "name": "ipython",
    "version": 3
   },
   "file_extension": ".py",
   "mimetype": "text/x-python",
   "name": "python",
   "nbconvert_exporter": "python",
   "pygments_lexer": "ipython3",
   "version": "3.7.1"
  }
 },
 "nbformat": 4,
 "nbformat_minor": 2
}
