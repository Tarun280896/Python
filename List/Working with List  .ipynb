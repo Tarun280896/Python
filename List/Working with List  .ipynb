{
 "cells": [
  {
   "cell_type": "markdown",
   "metadata": {},
   "source": [
    "# List"
   ]
  },
  {
   "cell_type": "code",
   "execution_count": 1,
   "metadata": {},
   "outputs": [],
   "source": [
    "lst = ['hyd','dlh','bng','kkd']"
   ]
  },
  {
   "cell_type": "code",
   "execution_count": 2,
   "metadata": {},
   "outputs": [
    {
     "name": "stdout",
     "output_type": "stream",
     "text": [
      "hyd\n",
      "dlh\n",
      "bng\n",
      "kkd\n"
     ]
    }
   ],
   "source": [
    "count = 0 \n",
    "while count < len(lst):\n",
    "    print(lst[count])\n",
    "    count = count + 1"
   ]
  },
  {
   "cell_type": "markdown",
   "metadata": {},
   "source": [
    "### Looping through the inner nested list"
   ]
  },
  {
   "cell_type": "code",
   "execution_count": 27,
   "metadata": {},
   "outputs": [
    {
     "name": "stdout",
     "output_type": "stream",
     "text": [
      "hyd dlh bng kkd abj\n",
      "ijk\n",
      "mld\n",
      "jdk\n"
     ]
    }
   ],
   "source": [
    "lst = ['hyd','dlh','bng','kkd',['abj','ijk','mld','jdk']] \n",
    "for eachitem in lst:\n",
    "    #print(eachitem)\n",
    "    if isinstance(eachitem,list) == True :\n",
    "        #print(len(lst[eachitem]))\n",
    "        for nested in range(len(eachitem)):\n",
    "            print(eachitem[nested])\n",
    "    else :\n",
    "        print(eachitem, end = ' ')"
   ]
  },
  {
   "cell_type": "code",
   "execution_count": 28,
   "metadata": {},
   "outputs": [],
   "source": [
    "lst = ['hyd','dlh','bng','kkd',['abj','ijk','mld','jdk',['abj','ijk','mld','jdk'],\n",
    "                                ['abj','ijk','mld','jdk',('inside_tuple','ijk','mld','jdk')]]]     "
   ]
  },
  {
   "cell_type": "code",
   "execution_count": 30,
   "metadata": {},
   "outputs": [
    {
     "name": "stdout",
     "output_type": "stream",
     "text": [
      "hyd dlh bng kkd abj ijk mld jdk abj ijk mld jdk abj ijk mld jdk inside_tuple ijk mld jdk "
     ]
    }
   ],
   "source": [
    "def print_lol(lst):\n",
    "    #print(len(lst),end = \"\\n\")\n",
    "    for eachitem in lst:\n",
    "        if isinstance(eachitem,list) == True:#check for nested list\n",
    "            print_lol(eachitem)#function recall\n",
    "        elif isinstance(eachitem,tuple) == True:\n",
    "            print_lol(eachitem)#function recall #check for nested tuple\n",
    "        else:        \n",
    "            print(eachitem,end= ' ')\n",
    "print_lol(lst)"
   ]
  },
  {
   "cell_type": "code",
   "execution_count": 45,
   "metadata": {},
   "outputs": [
    {
     "name": "stdout",
     "output_type": "stream",
     "text": [
      "hyd\n",
      "dlh\n",
      "bng\n",
      "kkd\n",
      "\t abj\n",
      "\t ijk\n",
      "\t mld\n",
      "\t jdk\n",
      "hyd\n",
      "dlh\n",
      "bng\n",
      "kkd\n",
      "\t abj\n",
      "\t ijk\n",
      "\t mld\n",
      "\t jdk\n",
      "\t abj\n",
      "\t ijk\n",
      "\t mld\n",
      "\t jdk\n",
      "\t \t inside_tuple\n",
      "\t \t ijk\n",
      "\t \t mld\n",
      "\t \t jdk\n"
     ]
    }
   ],
   "source": [
    "lst = ['hyd','dlh','bng','kkd',['abj','ijk','mld','jdk'],'hyd','dlh','bng','kkd',['abj','ijk','mld','jdk'],\n",
    "                                ['abj','ijk','mld','jdk'],('inside_tuple','ijk','mld','jdk')]     \n",
    "def print_lol(lst,level):\n",
    "    #print(len(lst),end = \"\\n\")\n",
    "    for eachitem in lst:\n",
    "        if isinstance(eachitem,list) == True:#check for nested list\n",
    "            print_lol(eachitem,level+1)#function recall\n",
    "        elif isinstance(eachitem,tuple) == True:\n",
    "            print_lol(eachitem,level+2)#function recall #check for nested tuple\n",
    "        else:        \n",
    "            for tab_stop in range(level):\n",
    "                print('\\t',end= ' ')\n",
    "            print(eachitem)\n",
    "print_lol(lst,0)"
   ]
  },
  {
   "cell_type": "code",
   "execution_count": 58,
   "metadata": {},
   "outputs": [
    {
     "name": "stdout",
     "output_type": "stream",
     "text": [
      "\t hyd\n",
      "\t dlh\n",
      "\t bng\n",
      "\t kkd\n",
      "\t \t abj\n",
      "\t \t ijk\n",
      "\t \t mld\n",
      "\t \t jdk\n",
      "\t hyd\n",
      "\t dlh\n",
      "\t bng\n",
      "\t kkd\n",
      "\t \t abj\n",
      "\t \t ijk\n",
      "\t \t mld\n",
      "\t \t jdk\n",
      "\t \t abj\n",
      "\t \t ijk\n",
      "\t \t mld\n",
      "\t \t jdk\n",
      "\t \t \t inside_tuple\n",
      "\t \t \t ijk\n",
      "\t \t \t mld\n",
      "\t \t \t jdk\n"
     ]
    }
   ],
   "source": [
    "lst = ['hyd','dlh','bng','kkd',['abj','ijk','mld','jdk'],'hyd','dlh','bng','kkd',['abj','ijk','mld','jdk'],\n",
    "                                ['abj','ijk','mld','jdk'],('inside_tuple','ijk','mld','jdk')]     \n",
    "def print_lol(lst,indent=False,level=0):#argument 1: list,argument 2 : indentation , 3: no of tab space\n",
    "    #print(len(lst),end = \"\\n\")\n",
    "    for eachitem in lst:\n",
    "        if isinstance(eachitem,list) == True:#check for nested list\n",
    "            print_lol(eachitem,indent,level+1)#function recall\n",
    "        elif isinstance(eachitem,tuple) == True:\n",
    "            print_lol(eachitem,indent,level+2)#function recall #check for nested tuple\n",
    "        else: \n",
    "            if indent :\n",
    "                for tab_stop in range(level):\n",
    "                    print('\\t',end= ' ')\n",
    "            print(eachitem)\n",
    "print_lol(lst,True,1)"
   ]
  },
  {
   "cell_type": "code",
   "execution_count": null,
   "metadata": {},
   "outputs": [],
   "source": []
  }
 ],
 "metadata": {
  "kernelspec": {
   "display_name": "Python 3",
   "language": "python",
   "name": "python3"
  },
  "language_info": {
   "codemirror_mode": {
    "name": "ipython",
    "version": 3
   },
   "file_extension": ".py",
   "mimetype": "text/x-python",
   "name": "python",
   "nbconvert_exporter": "python",
   "pygments_lexer": "ipython3",
   "version": "3.7.3"
  }
 },
 "nbformat": 4,
 "nbformat_minor": 2
}
