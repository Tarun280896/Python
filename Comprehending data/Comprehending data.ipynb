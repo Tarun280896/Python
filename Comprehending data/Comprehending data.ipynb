{
 "cells": [
  {
   "cell_type": "code",
   "execution_count": 1,
   "metadata": {},
   "outputs": [],
   "source": [
    "import os,glob"
   ]
  },
  {
   "cell_type": "code",
   "execution_count": 2,
   "metadata": {},
   "outputs": [
    {
     "data": {
      "text/plain": [
       "['.ipynb_checkpoints',\n",
       " 'james.txt',\n",
       " 'julie.txt',\n",
       " 'mikey.txt',\n",
       " 'sarah.txt',\n",
       " 'Untitled.ipynb']"
      ]
     },
     "execution_count": 2,
     "metadata": {},
     "output_type": "execute_result"
    }
   ],
   "source": [
    "lst = os.listdir()\n",
    "lst"
   ]
  },
  {
   "cell_type": "code",
   "execution_count": 3,
   "metadata": {},
   "outputs": [
    {
     "data": {
      "text/plain": [
       "['james', 'julie', 'mikey', 'sarah']"
      ]
     },
     "execution_count": 3,
     "metadata": {},
     "output_type": "execute_result"
    }
   ],
   "source": [
    "names = []\n",
    "for name in glob.glob(\"*.txt\"):    \n",
    "    names.append(name.split(\".\")[0])\n",
    "    \n",
    "names    "
   ]
  },
  {
   "cell_type": "markdown",
   "metadata": {},
   "source": [
    "### Reading all files data "
   ]
  },
  {
   "cell_type": "code",
   "execution_count": 36,
   "metadata": {},
   "outputs": [
    {
     "name": "stdout",
     "output_type": "stream",
     "text": [
      "{'james': ['2.01', '2.22', '2.34', '2.45', '3.01', '3.10', '3.21']}\n",
      "{'julie': ['2.11', '2.23', '2.59', '3.10', '3.21']}\n",
      "{'mikey': ['2.22', '2.38', '2.49', '3.01', '3.02', '3.22']}\n",
      "{'sarah': ['2.18', '2.25', '2.39', '2.54', '2.55', '2.58']}\n"
     ]
    }
   ],
   "source": [
    "athelete = []\n",
    "def make_list(list_name,file):\n",
    "    mylst = []\n",
    "    unique_lst = []\n",
    "    with open(file) as data:\n",
    "        ath_data = data.readline().strip().split(\",\")\n",
    "        for i in ath_data:\n",
    "            mylst.append(sanatize(i))\n",
    "        data ={list_name : sorted(set(mylst))}\n",
    "        athelete.append(data)\n",
    "        return (data)\n",
    "def sanatize(time_string):\n",
    "    if \"-\" in time_string:\n",
    "        splitter = \"-\"\n",
    "    elif \":\" in time_string:\n",
    "        splitter = \":\"\n",
    "    else :\n",
    "        return(time_string)\n",
    "    (mins,secs) = time_string.split(splitter)\n",
    "    return(mins+\".\"+secs)\n",
    "        \n",
    "for i in glob.glob(\"*txt\"):\n",
    "    list_name = i.split(\".\")[0]\n",
    "    file = i\n",
    "    print(make_list(list_name,file))\n",
    "    "
   ]
  },
  {
   "cell_type": "markdown",
   "metadata": {},
   "source": [
    "### Finding the top 3 timings of each athelete"
   ]
  },
  {
   "cell_type": "code",
   "execution_count": 37,
   "metadata": {},
   "outputs": [
    {
     "name": "stdout",
     "output_type": "stream",
     "text": [
      "{'james': ['2.01', '2.22', '2.34']}\n",
      "{'julie': ['2.11', '2.23', '2.59']}\n",
      "{'mikey': ['2.22', '2.38', '2.49']}\n",
      "{'sarah': ['2.18', '2.25', '2.39']}\n"
     ]
    }
   ],
   "source": [
    "athelete = []\n",
    "def make_list(list_name,file):\n",
    "    mylst = []\n",
    "    unique_lst = []\n",
    "    with open(file) as data:\n",
    "        ath_data = data.readline().strip().split(\",\")\n",
    "        for i in ath_data:\n",
    "            mylst.append(sanatize(i))\n",
    "        data ={list_name : sorted(set(mylst))[:3]}\n",
    "        athelete.append(data)\n",
    "        return (data)\n",
    "def sanatize(time_string):\n",
    "    if \"-\" in time_string:\n",
    "        splitter = \"-\"\n",
    "    elif \":\" in time_string:\n",
    "        splitter = \":\"\n",
    "    else :\n",
    "        return(time_string)\n",
    "    (mins,secs) = time_string.split(splitter)\n",
    "    return(mins+\".\"+secs)\n",
    "        \n",
    "for i in glob.glob(\"*txt\"):\n",
    "    list_name = i.split(\".\")[0]\n",
    "    file = i\n",
    "    print(make_list(list_name,file))\n",
    "    "
   ]
  },
  {
   "cell_type": "code",
   "execution_count": 38,
   "metadata": {},
   "outputs": [
    {
     "name": "stdout",
     "output_type": "stream",
     "text": [
      "James Lee,2002-3-14,2-34,3:21,2.34,2.45,3.01,2:01,2:01,3:10,2-22,2-01,2.01,2:16\n",
      "\n"
     ]
    }
   ],
   "source": [
    "with open('james2.txt') as txt :\n",
    "    print(txt.readline())"
   ]
  },
  {
   "cell_type": "markdown",
   "metadata": {},
   "source": [
    "### Updated formate of text"
   ]
  },
  {
   "cell_type": "code",
   "execution_count": 52,
   "metadata": {},
   "outputs": [
    {
     "name": "stdout",
     "output_type": "stream",
     "text": [
      "{'James Lee - 2002-3-14': ['2.01', '2.16', '2.22']}\n",
      "{'Julie Jones - 2002-8-17': ['2.11', '2.23', '2.59']}\n",
      "{'Mikey McManus - 2002-2-24': ['2.22', '2.31', '2.38']}\n",
      "{'Sarah Sweeney - 2002-6-17': ['2.18', '2.21', '2.22']}\n"
     ]
    }
   ],
   "source": [
    "athelete = []\n",
    "def make_list(list_name,file):\n",
    "    mylst = []\n",
    "    unique_lst = []\n",
    "    with open(file) as data:\n",
    "        ath_data = data.readline().strip().split(\",\")\n",
    "        (name,dob) = ath_data.pop(0),ath_data.pop(0)\n",
    "        for i in ath_data:\n",
    "            mylst.append(sanatize(i))\n",
    "        data ={name+\" - \"+ dob : sorted(set(mylst))[:3]}\n",
    "        athelete.append(data)\n",
    "        return (data)\n",
    "def sanatize(time_string):\n",
    "    if \"-\" in time_string:\n",
    "        splitter = \"-\"\n",
    "    elif \":\" in time_string:\n",
    "        splitter = \":\"\n",
    "    else :\n",
    "        return(time_string)\n",
    "    (mins,secs) = time_string.split(splitter)\n",
    "    return(mins+\".\"+secs)\n",
    "        \n",
    "for i in glob.glob(\"*2.txt\"):\n",
    "    list_name = i.split(\".\")[0]\n",
    "    file = i\n",
    "    print(make_list(list_name,file))\n",
    "    "
   ]
  },
  {
   "cell_type": "code",
   "execution_count": null,
   "metadata": {},
   "outputs": [],
   "source": []
  }
 ],
 "metadata": {
  "kernelspec": {
   "display_name": "Python 3",
   "language": "python",
   "name": "python3"
  },
  "language_info": {
   "codemirror_mode": {
    "name": "ipython",
    "version": 3
   },
   "file_extension": ".py",
   "mimetype": "text/x-python",
   "name": "python",
   "nbconvert_exporter": "python",
   "pygments_lexer": "ipython3",
   "version": "3.7.3"
  }
 },
 "nbformat": 4,
 "nbformat_minor": 2
}
